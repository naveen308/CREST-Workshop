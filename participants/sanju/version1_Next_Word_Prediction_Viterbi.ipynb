{
  "nbformat": 4,
  "nbformat_minor": 0,
  "metadata": {
    "colab": {
      "provenance": []
    },
    "kernelspec": {
      "name": "python3",
      "display_name": "Python 3"
    },
    "language_info": {
      "name": "python"
    }
  },
  "cells": [
    {
      "cell_type": "code",
      "execution_count": null,
      "metadata": {
        "id": "YSpscYv-couq"
      },
      "outputs": [],
      "source": [
        "# prompt: Create a python jupyter notebook which uses Viterbi algorithm that performs next word prediction to form a complete sentence.\n",
        "\n",
        "import numpy as np\n",
        "\n",
        "# --- Data (Simplified) ---\n",
        "# This is a very basic corpus for demonstration.\n",
        "# In a real-world scenario, you would use a much larger dataset\n",
        "# to train your language model.\n",
        "corpus = \"The quick brown fox jumps over the lazy dog . A lazy dog is sleeping .\"\n",
        "\n",
        "# --- Build Language Model ---\n",
        "# We'll create a simple bigram model.\n",
        "# Transition probabilities: P(word_i | word_{i-1})\n",
        "# Emission probabilities (not strictly needed for this simplified case): P(observation | state)\n",
        "# In this setup, the 'state' is the word itself, and the 'observation' is also the word.\n",
        "\n",
        "\n"
      ]
    },
    {
      "cell_type": "code",
      "source": [
        "# Tokenize the corpus\n",
        "words = corpus.lower().split() # Brown Corpus, Common Crawl, Pile (Pythia)\n",
        "unique_words = sorted(list(set(words)))\n",
        "word_to_index = {word: i for i, word in enumerate(unique_words)}\n",
        "index_to_word = {i: word for word, i in word_to_index.items()}\n",
        "vocab_size = len(unique_words)\n",
        "\n",
        "# Build bigram counts\n",
        "bigram_counts = np.zeros((vocab_size, vocab_size), dtype=int)\n",
        "word_counts = np.zeros(vocab_size, dtype=int)"
      ],
      "metadata": {
        "id": "XvV6oKPmTRx0"
      },
      "execution_count": null,
      "outputs": []
    },
    {
      "cell_type": "code",
      "source": [
        "for i in range(len(words) - 1):\n",
        "    current_word_index = word_to_index[words[i]]\n",
        "    next_word_index = word_to_index[words[i+1]]\n",
        "    bigram_counts[current_word_index, next_word_index] += 1\n",
        "    word_counts[current_word_index] += 1\n",
        "\n",
        "# Calculate transition probabilities (add-one smoothing)\n",
        "transition_probabilities = np.zeros((vocab_size, vocab_size))\n",
        "alpha = 1 # Add-one smoothing\n",
        "for i in range(vocab_size):\n",
        "    total_count = word_counts[i] + vocab_size * alpha\n",
        "    transition_probabilities[i, :] = (bigram_counts[i, :] + alpha) / total_count\n",
        "\n",
        "# --- Viterbi Algorithm for Next Word Prediction ---\n",
        "\n",
        "def predict_next_word_viterbi(start_sentence, num_predictions=1):\n",
        "    \"\"\"\n",
        "    Predicts the next word(s) using a simplified Viterbi-like approach\n",
        "    based on bigram probabilities. This implementation finds the single\n",
        "    most probable next word based on the last word of the input sentence.\n",
        "\n",
        "    Args:\n",
        "        start_sentence (str): The beginning of the sentence.\n",
        "        num_predictions (int): Number of words to predict. (Currently only supports 1)\n",
        "\n",
        "    Returns:\n",
        "        str: The predicted next word.\n",
        "    \"\"\"\n",
        "    # Tokenize the input sentence\n",
        "    input_words = start_sentence.lower().split()\n",
        "    if not input_words:\n",
        "        return \"\" # Cannot predict if no input words\n",
        "\n",
        "    last_word = input_words[-1]\n",
        "\n",
        "    if last_word not in word_to_index:\n",
        "        print(f\"Warning: Last word '{last_word}' not in vocabulary. Cannot predict.\")\n",
        "        # Simple fallback: predict the most frequent starting word or a placeholder\n",
        "        # For this example, we'll just return an empty string or a placeholder\n",
        "        return \"[UNK]\" # Unknown word placeholder\n",
        "\n",
        "    last_word_index = word_to_index[last_word]\n",
        "\n",
        "    # Find the word with the highest transition probability from the last word\n",
        "    # In a full Viterbi, you'd track paths and probabilities for a sequence.\n",
        "    # Here, we simplify to just the next step.\n",
        "    next_word_probabilities = transition_probabilities[last_word_index, :]\n",
        "\n",
        "    # Find the index of the highest probability\n",
        "    best_next_word_index = np.argmax(next_word_probabilities)\n",
        "\n",
        "    # Return the word corresponding to the index\n",
        "    return index_to_word[best_next_word_index]\n",
        "\n"
      ],
      "metadata": {
        "id": "6uHfvNO3c676"
      },
      "execution_count": null,
      "outputs": []
    },
    {
      "cell_type": "code",
      "source": [
        "# --- Example Usage ---\n",
        "\n",
        "start_of_sentence = \"The quick brown fox\"\n",
        "predicted_word = predict_next_word_viterbi(start_of_sentence)\n",
        "print(f\"Input: '{start_of_sentence}'\")\n",
        "print(f\"Predicted next word: '{predicted_word}'\")\n",
        "print(f\"Completed sentence fragment: '{start_of_sentence} {predicted_word}'\")\n",
        "\n",
        "print(\"-\" * 20)\n",
        "\n",
        "start_of_sentence_2 = \"A lazy\"\n",
        "predicted_word_2 = predict_next_word_viterbi(start_of_sentence_2)\n",
        "print(f\"Input: '{start_of_sentence_2}'\")\n",
        "print(f\"Predicted next word: '{predicted_word_2}'\")\n",
        "print(f\"Completed sentence fragment: '{start_of_sentence_2} {predicted_word_2}'\")\n",
        "\n",
        "print(\"-\" * 20)\n",
        "\n",
        "start_of_sentence_3 = \"is sleeping\"\n",
        "predicted_word_3 = predict_next_word_viterbi(start_of_sentence_3)\n",
        "print(f\"Input: '{start_of_sentence_3}'\")\n",
        "print(f\"Predicted next word: '{predicted_word_3}'\")\n",
        "print(f\"Completed sentence fragment: '{start_of_sentence_3} {predicted_word_3}'\")\n",
        "\n",
        "print(\"-\" * 20)\n",
        "\n",
        "# Example with an unknown word\n",
        "start_of_sentence_4 = \"The red car\"\n",
        "predicted_word_4 = predict_next_word_viterbi(start_of_sentence_4)\n",
        "print(f\"Input: '{start_of_sentence_4}'\")\n",
        "print(f\"Predicted next word: '{predicted_word_4}'\")\n",
        "print(f\"Completed sentence fragment: '{start_of_sentence_4} {predicted_word_4}'\")\n",
        "\n",
        "# Example from Shama\n",
        "start_of_sentence_5 = \"The quick fox\"\n",
        "predicted_word_5 = predict_next_word_viterbi(start_of_sentence_5)\n",
        "print(f\"Input: '{start_of_sentence_5}'\")\n",
        "print(f\"Predicted next word: '{predicted_word_5}'\")\n",
        "print(f\"Completed sentence fragment: '{start_of_sentence_5} {predicted_word_5}'\")"
      ],
      "metadata": {
        "colab": {
          "base_uri": "https://localhost:8080/"
        },
        "id": "8e5kXN78TWFl",
        "outputId": "cc9556bb-4c1f-4917-a0bf-a6c8a2ff7c91"
      },
      "execution_count": null,
      "outputs": [
        {
          "output_type": "stream",
          "name": "stdout",
          "text": [
            "Input: 'The quick brown fox'\n",
            "Predicted next word: 'jumps'\n",
            "Completed sentence fragment: 'The quick brown fox jumps'\n",
            "--------------------\n",
            "Input: 'A lazy'\n",
            "Predicted next word: 'dog'\n",
            "Completed sentence fragment: 'A lazy dog'\n",
            "--------------------\n",
            "Input: 'is sleeping'\n",
            "Predicted next word: '.'\n",
            "Completed sentence fragment: 'is sleeping .'\n",
            "--------------------\n",
            "Warning: Last word 'car' not in vocabulary. Cannot predict.\n",
            "Input: 'The red car'\n",
            "Predicted next word: '[UNK]'\n",
            "Completed sentence fragment: 'The red car [UNK]'\n",
            "Input: 'The quick fox'\n",
            "Predicted next word: 'jumps'\n",
            "Completed sentence fragment: 'The quick fox jumps'\n"
          ]
        }
      ]
    }
  ]
}